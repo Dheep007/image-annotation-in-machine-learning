{
 "cells": [
  {
   "cell_type": "code",
   "execution_count": 1,
   "id": "644f88b0",
   "metadata": {},
   "outputs": [
    {
     "name": "stdout",
     "output_type": "stream",
     "text": [
      "Requirement already satisfied: opencv-python in c:\\users\\student\\anaconda3\\lib\\site-packages (4.8.0.74)\n",
      "Requirement already satisfied: numpy>=1.17.3 in c:\\users\\student\\anaconda3\\lib\\site-packages (from opencv-python) (1.20.3)\n",
      "[[[ 49  21   4]\n",
      "  [ 50  22   5]\n",
      "  [ 50  23   3]\n",
      "  ...\n",
      "  [ 46  48  48]\n",
      "  [ 59  61  61]\n",
      "  [ 55  57  57]]\n",
      "\n",
      " [[ 49  21   4]\n",
      "  [ 50  22   5]\n",
      "  [ 50  23   3]\n",
      "  ...\n",
      "  [ 51  53  53]\n",
      "  [ 61  63  63]\n",
      "  [ 60  62  62]]\n",
      "\n",
      " [[ 49  21   4]\n",
      "  [ 50  22   5]\n",
      "  [ 50  23   3]\n",
      "  ...\n",
      "  [ 25  27  27]\n",
      "  [ 33  35  35]\n",
      "  [ 35  37  37]]\n",
      "\n",
      " ...\n",
      "\n",
      " [[176 186 186]\n",
      "  [176 186 186]\n",
      "  [176 185 188]\n",
      "  ...\n",
      "  [222 231 235]\n",
      "  [222 231 235]\n",
      "  [221 230 234]]\n",
      "\n",
      " [[176 186 186]\n",
      "  [176 186 186]\n",
      "  [176 185 188]\n",
      "  ...\n",
      "  [221 230 234]\n",
      "  [221 230 234]\n",
      "  [221 230 234]]\n",
      "\n",
      " [[176 186 186]\n",
      "  [176 186 186]\n",
      "  [177 186 189]\n",
      "  ...\n",
      "  [220 229 233]\n",
      "  [220 229 233]\n",
      "  [220 229 233]]]\n"
     ]
    }
   ],
   "source": [
    "import pandas as pd\n",
    "import matplotlib.pyplot as plt\n",
    "import seaborn as sns\n",
    "import cv2\n",
    "\n",
    "!pip install opencv-python\n",
    "\n",
    "cam=cv2.imread(\"Downloads/fake-and-real-guns.jpg\")\n",
    "\n",
    "print(cam)"
   ]
  },
  {
   "cell_type": "code",
   "execution_count": 2,
   "id": "82419e05",
   "metadata": {},
   "outputs": [
    {
     "data": {
      "text/plain": [
       "-1"
      ]
     },
     "execution_count": 2,
     "metadata": {},
     "output_type": "execute_result"
    }
   ],
   "source": [
    "cv2.imshow(\"image\",cam)\n",
    "cv2.waitKey(0)"
   ]
  },
  {
   "cell_type": "code",
   "execution_count": null,
   "id": "a91584fa",
   "metadata": {},
   "outputs": [],
   "source": []
  }
 ],
 "metadata": {
  "kernelspec": {
   "display_name": "Python 3 (ipykernel)",
   "language": "python",
   "name": "python3"
  },
  "language_info": {
   "codemirror_mode": {
    "name": "ipython",
    "version": 3
   },
   "file_extension": ".py",
   "mimetype": "text/x-python",
   "name": "python",
   "nbconvert_exporter": "python",
   "pygments_lexer": "ipython3",
   "version": "3.9.7"
  }
 },
 "nbformat": 4,
 "nbformat_minor": 5
}
